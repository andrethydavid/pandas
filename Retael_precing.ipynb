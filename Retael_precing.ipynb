{
  "cells": [
    {
      "cell_type": "code",
      "source": [
        "import pandas as pd\n",
        "from os import read\n",
        "import numpy as np\n"
      ],
      "metadata": {
        "id": "21UoIy7tfmAF"
      },
      "execution_count": 1,
      "outputs": []
    },
    {
      "cell_type": "code",
      "source": [
        "path = pd.read_csv(\"/content/Online_Retail.csv\", encoding='latin1', encoding_errors='replace', engine='python')\n",
        "print(path)"
      ],
      "metadata": {
        "colab": {
          "base_uri": "https://localhost:8080/"
        },
        "id": "utFOtBCvfnq5",
        "outputId": "56cb44d2-9137-45fb-aab1-cfc58c0d1963"
      },
      "execution_count": 3,
      "outputs": [
        {
          "output_type": "stream",
          "name": "stdout",
          "text": [
            "       InvoiceNo StockCode                          Description  Quantity  \\\n",
            "0         536365    85123A   WHITE HANGING HEART T-LIGHT HOLDER         6   \n",
            "1         536365     71053                  WHITE METAL LANTERN         6   \n",
            "2         536365    84406B       CREAM CUPID HEARTS COAT HANGER         8   \n",
            "3         536365    84029G  KNITTED UNION FLAG HOT WATER BOTTLE         6   \n",
            "4         536365    84029E       RED WOOLLY HOTTIE WHITE HEART.         6   \n",
            "...          ...       ...                                  ...       ...   \n",
            "541904    581587     22613          PACK OF 20 SPACEBOY NAPKINS        12   \n",
            "541905    581587     22899         CHILDREN'S APRON DOLLY GIRL          6   \n",
            "541906    581587     23254        CHILDRENS CUTLERY DOLLY GIRL          4   \n",
            "541907    581587     23255      CHILDRENS CUTLERY CIRCUS PARADE         4   \n",
            "541908    581587     22138        BAKING SET 9 PIECE RETROSPOT          3   \n",
            "\n",
            "          InvoiceDate  UnitPrice  CustomerID         Country  \n",
            "0        12/1/10 8:26       2.55     17850.0  United Kingdom  \n",
            "1        12/1/10 8:26       3.39     17850.0  United Kingdom  \n",
            "2        12/1/10 8:26       2.75     17850.0  United Kingdom  \n",
            "3        12/1/10 8:26       3.39     17850.0  United Kingdom  \n",
            "4        12/1/10 8:26       3.39     17850.0  United Kingdom  \n",
            "...               ...        ...         ...             ...  \n",
            "541904  12/9/11 12:50       0.85     12680.0          France  \n",
            "541905  12/9/11 12:50       2.10     12680.0          France  \n",
            "541906  12/9/11 12:50       4.15     12680.0          France  \n",
            "541907  12/9/11 12:50       4.15     12680.0          France  \n",
            "541908  12/9/11 12:50       4.95     12680.0          France  \n",
            "\n",
            "[541909 rows x 8 columns]\n"
          ]
        }
      ]
    },
    {
      "cell_type": "code",
      "source": [
        "fisrt_row = path.iloc[0]\n",
        "print(fisrt_row)"
      ],
      "metadata": {
        "colab": {
          "base_uri": "https://localhost:8080/"
        },
        "id": "qZpKnVu0f95w",
        "outputId": "cf65cc7f-d3a8-4c0f-b2a0-11c2192633c9"
      },
      "execution_count": 5,
      "outputs": [
        {
          "output_type": "stream",
          "name": "stdout",
          "text": [
            "InvoiceNo                                  536365\n",
            "StockCode                                  85123A\n",
            "Description    WHITE HANGING HEART T-LIGHT HOLDER\n",
            "Quantity                                        6\n",
            "InvoiceDate                          12/1/10 8:26\n",
            "UnitPrice                                    2.55\n",
            "CustomerID                                17850.0\n",
            "Country                            United Kingdom\n",
            "Name: 0, dtype: object\n"
          ]
        }
      ]
    },
    {
      "cell_type": "code",
      "source": [
        "fisrt_row_five = path.iloc[6:5] #iloc es para lista traer cantidad\n",
        "print(fisrt_row)"
      ],
      "metadata": {
        "colab": {
          "base_uri": "https://localhost:8080/"
        },
        "id": "IGWpEhqFhI4N",
        "outputId": "7131a7b5-3cd3-452a-a0f5-6ef6273f9aea"
      },
      "execution_count": 7,
      "outputs": [
        {
          "output_type": "stream",
          "name": "stdout",
          "text": [
            "InvoiceNo                                  536365\n",
            "StockCode                                  85123A\n",
            "Description    WHITE HANGING HEART T-LIGHT HOLDER\n",
            "Quantity                                        6\n",
            "InvoiceDate                          12/1/10 8:26\n",
            "UnitPrice                                    2.55\n",
            "CustomerID                                17850.0\n",
            "Country                            United Kingdom\n",
            "Name: 0, dtype: object\n"
          ]
        }
      ]
    },
    {
      "cell_type": "code",
      "source": [
        "subset = path.iloc[:3, :2] #iloc es para lista traer cantidad\n",
        "print(subset)"
      ],
      "metadata": {
        "colab": {
          "base_uri": "https://localhost:8080/"
        },
        "id": "P-YkAQSkhhPZ",
        "outputId": "035da887-1d99-4a1e-d216-caa6c819db87"
      },
      "execution_count": 9,
      "outputs": [
        {
          "output_type": "stream",
          "name": "stdout",
          "text": [
            "  InvoiceNo StockCode\n",
            "0    536365    85123A\n",
            "1    536365     71053\n",
            "2    536365    84406B\n"
          ]
        }
      ]
    },
    {
      "cell_type": "code",
      "source": [
        "subset_2 = path.iloc[1, 3] #iloc es para lista traer cantidad\n",
        "print(subset_2)"
      ],
      "metadata": {
        "colab": {
          "base_uri": "https://localhost:8080/"
        },
        "id": "MDrpREUGh4ui",
        "outputId": "c9eb8a4f-1ab4-4424-c296-3f3311a20cc8"
      },
      "execution_count": 12,
      "outputs": [
        {
          "output_type": "stream",
          "name": "stdout",
          "text": [
            "6\n"
          ]
        }
      ]
    },
    {
      "cell_type": "code",
      "source": [
        "row_index_03 = path.iloc[3]\n",
        "print(row_index_03)"
      ],
      "metadata": {
        "colab": {
          "base_uri": "https://localhost:8080/"
        },
        "id": "rhpgXoPbiE7M",
        "outputId": "622bb63d-7657-4397-c681-20ef7b8f1f03"
      },
      "execution_count": 13,
      "outputs": [
        {
          "output_type": "stream",
          "name": "stdout",
          "text": [
            "InvoiceNo                                   536365\n",
            "StockCode                                   84029G\n",
            "Description    KNITTED UNION FLAG HOT WATER BOTTLE\n",
            "Quantity                                         6\n",
            "InvoiceDate                           12/1/10 8:26\n",
            "UnitPrice                                     3.39\n",
            "CustomerID                                 17850.0\n",
            "Country                             United Kingdom\n",
            "Name: 3, dtype: object\n"
          ]
        }
      ]
    },
    {
      "cell_type": "markdown",
      "source": [
        "## Datos faltantes"
      ],
      "metadata": {
        "id": "Ap6xUM78i3vN"
      }
    },
    {
      "cell_type": "code",
      "source": [
        "missing_data  = path.isna()#\n",
        "print(missing_data.head())#cantidad de datos faltantes solo me trae 05"
      ],
      "metadata": {
        "colab": {
          "base_uri": "https://localhost:8080/"
        },
        "id": "9tEmI03uigB4",
        "outputId": "be799929-d30e-4613-bb91-dfa81a280a23"
      },
      "execution_count": 17,
      "outputs": [
        {
          "output_type": "stream",
          "name": "stdout",
          "text": [
            "   InvoiceNo  StockCode  Description  Quantity  InvoiceDate  UnitPrice  \\\n",
            "0      False      False        False     False        False      False   \n",
            "1      False      False        False     False        False      False   \n",
            "2      False      False        False     False        False      False   \n",
            "3      False      False        False     False        False      False   \n",
            "4      False      False        False     False        False      False   \n",
            "\n",
            "   CustomerID  Country  \n",
            "0       False    False  \n",
            "1       False    False  \n",
            "2       False    False  \n",
            "3       False    False  \n",
            "4       False    False  \n"
          ]
        }
      ]
    },
    {
      "cell_type": "code",
      "source": [
        "missing_data_count = path.isna().sum()\n",
        "print(\"conteo de datos faltantes por columna:\\n\", missing_data_count) #datos faltantes"
      ],
      "metadata": {
        "colab": {
          "base_uri": "https://localhost:8080/"
        },
        "id": "hlYvhA-di3gi",
        "outputId": "c132f3eb-0b76-4b15-9a93-9ea335d09bac"
      },
      "execution_count": 20,
      "outputs": [
        {
          "output_type": "stream",
          "name": "stdout",
          "text": [
            "conteo de datos faltantes por columna:\n",
            " InvoiceNo           0\n",
            "StockCode           0\n",
            "Description      1454\n",
            "Quantity            0\n",
            "InvoiceDate         0\n",
            "UnitPrice           0\n",
            "CustomerID     135080\n",
            "Country             0\n",
            "dtype: int64\n"
          ]
        }
      ]
    },
    {
      "cell_type": "code",
      "source": [
        "no_missing_data = path.dropna()\n",
        "print(\"conteo de datos faltantes por columna:\\n\", no_missing_data ) #datos faltantes eliminar"
      ],
      "metadata": {
        "colab": {
          "base_uri": "https://localhost:8080/"
        },
        "id": "fUi6mRVdkkjb",
        "outputId": "4a3f85c2-ef88-41fe-dcca-1febe64c3996"
      },
      "execution_count": 22,
      "outputs": [
        {
          "output_type": "stream",
          "name": "stdout",
          "text": [
            "conteo de datos faltantes por columna:\n",
            "        InvoiceNo StockCode                          Description  Quantity  \\\n",
            "0         536365    85123A   WHITE HANGING HEART T-LIGHT HOLDER         6   \n",
            "1         536365     71053                  WHITE METAL LANTERN         6   \n",
            "2         536365    84406B       CREAM CUPID HEARTS COAT HANGER         8   \n",
            "3         536365    84029G  KNITTED UNION FLAG HOT WATER BOTTLE         6   \n",
            "4         536365    84029E       RED WOOLLY HOTTIE WHITE HEART.         6   \n",
            "...          ...       ...                                  ...       ...   \n",
            "541904    581587     22613          PACK OF 20 SPACEBOY NAPKINS        12   \n",
            "541905    581587     22899         CHILDREN'S APRON DOLLY GIRL          6   \n",
            "541906    581587     23254        CHILDRENS CUTLERY DOLLY GIRL          4   \n",
            "541907    581587     23255      CHILDRENS CUTLERY CIRCUS PARADE         4   \n",
            "541908    581587     22138        BAKING SET 9 PIECE RETROSPOT          3   \n",
            "\n",
            "          InvoiceDate  UnitPrice  CustomerID         Country  \n",
            "0        12/1/10 8:26       2.55     17850.0  United Kingdom  \n",
            "1        12/1/10 8:26       3.39     17850.0  United Kingdom  \n",
            "2        12/1/10 8:26       2.75     17850.0  United Kingdom  \n",
            "3        12/1/10 8:26       3.39     17850.0  United Kingdom  \n",
            "4        12/1/10 8:26       3.39     17850.0  United Kingdom  \n",
            "...               ...        ...         ...             ...  \n",
            "541904  12/9/11 12:50       0.85     12680.0          France  \n",
            "541905  12/9/11 12:50       2.10     12680.0          France  \n",
            "541906  12/9/11 12:50       4.15     12680.0          France  \n",
            "541907  12/9/11 12:50       4.15     12680.0          France  \n",
            "541908  12/9/11 12:50       4.95     12680.0          France  \n",
            "\n",
            "[406829 rows x 8 columns]\n"
          ]
        }
      ]
    },
    {
      "cell_type": "code",
      "source": [
        "no_missing_data_02 = path.dropna(axis=1)\n",
        "print(\"conteo de datos faltantes por columna:\\n\", no_missing_data_02 ) #datos faltantes eliminar tablas"
      ],
      "metadata": {
        "colab": {
          "base_uri": "https://localhost:8080/"
        },
        "id": "EWsQaDjVk8NF",
        "outputId": "4f91bc9d-c204-4d49-e1b0-2c24d2420219"
      },
      "execution_count": 24,
      "outputs": [
        {
          "output_type": "stream",
          "name": "stdout",
          "text": [
            "conteo de datos faltantes por columna:\n",
            "        InvoiceNo StockCode  Quantity    InvoiceDate  UnitPrice         Country\n",
            "0         536365    85123A         6   12/1/10 8:26       2.55  United Kingdom\n",
            "1         536365     71053         6   12/1/10 8:26       3.39  United Kingdom\n",
            "2         536365    84406B         8   12/1/10 8:26       2.75  United Kingdom\n",
            "3         536365    84029G         6   12/1/10 8:26       3.39  United Kingdom\n",
            "4         536365    84029E         6   12/1/10 8:26       3.39  United Kingdom\n",
            "...          ...       ...       ...            ...        ...             ...\n",
            "541904    581587     22613        12  12/9/11 12:50       0.85          France\n",
            "541905    581587     22899         6  12/9/11 12:50       2.10          France\n",
            "541906    581587     23254         4  12/9/11 12:50       4.15          France\n",
            "541907    581587     23255         4  12/9/11 12:50       4.15          France\n",
            "541908    581587     22138         3  12/9/11 12:50       4.95          France\n",
            "\n",
            "[541909 rows x 6 columns]\n"
          ]
        }
      ]
    },
    {
      "cell_type": "code",
      "source": [
        "real_date_filler_zeros = path.fillna(0)#es para ver datos en 0\n",
        "real_date_filler_zeros_count = real_date_filler_zeros.isna().sum()#datos tablas en 0\n",
        "print(real_date_filler_zeros_count)"
      ],
      "metadata": {
        "colab": {
          "base_uri": "https://localhost:8080/"
        },
        "id": "IE5C2NgJltWh",
        "outputId": "a882a97f-165b-4911-cf38-55b7e300a495"
      },
      "execution_count": 30,
      "outputs": [
        {
          "output_type": "stream",
          "name": "stdout",
          "text": [
            "InvoiceNo      0\n",
            "StockCode      0\n",
            "Description    0\n",
            "Quantity       0\n",
            "InvoiceDate    0\n",
            "UnitPrice      0\n",
            "CustomerID     0\n",
            "Country        0\n",
            "dtype: int64\n"
          ]
        }
      ]
    },
    {
      "cell_type": "code",
      "source": [
        "mean_unit_price = path['UnitPrice'].mean()#precio unitario con la media\n",
        "real_data_filter = path[path['UnitPrice'].fillna(mean_unit_price) > mean_unit_price]# llenamos los dtso con la media\n",
        "print(real_data_filter )"
      ],
      "metadata": {
        "colab": {
          "base_uri": "https://localhost:8080/"
        },
        "id": "KVbIh5Sbnpi9",
        "outputId": "25d721a3-06a5-49de-b85c-bd96cf7c47e2"
      },
      "execution_count": 36,
      "outputs": [
        {
          "output_type": "stream",
          "name": "stdout",
          "text": [
            "       InvoiceNo StockCode                     Description  Quantity  \\\n",
            "5         536365     22752    SET 7 BABUSHKA NESTING BOXES         2   \n",
            "15        536367     22623   BOX OF VINTAGE JIGSAW BLOCKS          3   \n",
            "16        536367     22622  BOX OF VINTAGE ALPHABET BLOCKS         2   \n",
            "17        536367     21754        HOME BUILDING BLOCK WORD         3   \n",
            "18        536367     21755        LOVE BUILDING BLOCK WORD         3   \n",
            "...          ...       ...                             ...       ...   \n",
            "541859    581580     37500     TEA TIME TEAPOT IN GIFT BOX         1   \n",
            "541878    581585     23356           LOVE HOT WATER BOTTLE         3   \n",
            "541892    581586     21217   RED RETROSPOT ROUND CAKE TINS        24   \n",
            "541893    581586     20685           DOORMAT RED RETROSPOT        10   \n",
            "541908    581587     22138   BAKING SET 9 PIECE RETROSPOT          3   \n",
            "\n",
            "          InvoiceDate  UnitPrice  CustomerID         Country  \n",
            "5        12/1/10 8:26       7.65     17850.0  United Kingdom  \n",
            "15       12/1/10 8:34       4.95     13047.0  United Kingdom  \n",
            "16       12/1/10 8:34       9.95     13047.0  United Kingdom  \n",
            "17       12/1/10 8:34       5.95     13047.0  United Kingdom  \n",
            "18       12/1/10 8:34       5.95     13047.0  United Kingdom  \n",
            "...               ...        ...         ...             ...  \n",
            "541859  12/9/11 12:20       4.95     12748.0  United Kingdom  \n",
            "541878  12/9/11 12:31       5.95     15804.0  United Kingdom  \n",
            "541892  12/9/11 12:49       8.95     13113.0  United Kingdom  \n",
            "541893  12/9/11 12:49       7.08     13113.0  United Kingdom  \n",
            "541908  12/9/11 12:50       4.95     12680.0          France  \n",
            "\n",
            "[112649 rows x 8 columns]\n"
          ]
        }
      ]
    },
    {
      "cell_type": "code",
      "source": [],
      "metadata": {
        "id": "CNwWGCwFoQuw"
      },
      "execution_count": null,
      "outputs": []
    }
  ],
  "metadata": {
    "colab": {
      "name": "Snippets: Importing libraries",
      "provenance": []
    },
    "kernelspec": {
      "display_name": "Python 3",
      "name": "python3"
    }
  },
  "nbformat": 4,
  "nbformat_minor": 0
}